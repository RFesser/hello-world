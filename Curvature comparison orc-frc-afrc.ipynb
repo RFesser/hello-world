{
  "nbformat": 4,
  "nbformat_minor": 0,
  "metadata": {
    "colab": {
      "provenance": [],
      "authorship_tag": "ABX9TyMrMRpYmJYsXp1n3a2etZwh",
      "include_colab_link": true
    },
    "kernelspec": {
      "name": "python3",
      "display_name": "Python 3"
    },
    "language_info": {
      "name": "python"
    }
  },
  "cells": [
    {
      "cell_type": "markdown",
      "metadata": {
        "id": "view-in-github",
        "colab_type": "text"
      },
      "source": [
        "<a href=\"https://colab.research.google.com/github/RFesser/hello-world/blob/master/Curvature%20comparison%20orc-frc-afrc.ipynb\" target=\"_parent\"><img src=\"https://colab.research.google.com/assets/colab-badge.svg\" alt=\"Open In Colab\"/></a>"
      ]
    },
    {
      "cell_type": "code",
      "execution_count": null,
      "metadata": {
        "id": "s2DhuwTm9Lys"
      },
      "outputs": [],
      "source": [
        "import networkx as nx\n",
        "import matplotlib.pyplot as plt\n",
        "from time import perf_counter\n",
        "import numpy as np\n",
        "\n",
        "from GraphRicciCurvature.FormanRicci import FormanRicci\n",
        "from GraphRicciCurvature.OllivierRicci import OllivierRicci\n"
      ]
    },
    {
      "cell_type": "markdown",
      "source": [],
      "metadata": {
        "id": "EOWzZsjw99H8"
      }
    },
    {
      "cell_type": "code",
      "source": [
        "def plot_my_graph(G, pos, ax = None, node_col = \"white\", \n",
        "                  edge_lst = [], edge_col = \"lightgrey\", edge_lab = {},\n",
        "                  bbox = None, color_map = \"Set3\", alpha = 1.0):\n",
        "    node_options = {\n",
        "        \"font_size\": 12, \n",
        "        \"font_color\": \"black\",\n",
        "        \"node_size\": 300, \n",
        "        \"cmap\": plt.get_cmap(color_map),\n",
        "        \"alpha\": alpha,\n",
        "        \"edgecolors\": \"black\",\n",
        "        \"linewidths\": 0.5,   \n",
        "        \"with_labels\": True,\n",
        "        \"edgelist\": None\n",
        "        }\n",
        "    edge_options = {\n",
        "        \"width\": 0.5\n",
        "        }\n",
        "    fig = plt.figure(figsize=(15,15))\n",
        "    nx.draw_networkx (G, pos, node_color = node_col, edge_color = edge_col, **node_options)\n",
        "    nx.draw_networkx_edges (G, pos, edge_lst, edge_color = edge_col, **edge_options)\n",
        "    nx.draw_networkx_edge_labels(G, pos, label_pos = 0.5, edge_labels = edge_lab, rotate=False, bbox = bbox)\n",
        "    plt.gca().margins(0.20)\n",
        "    plt.show()"
      ],
      "metadata": {
        "id": "W3oT0idD9-Jj"
      },
      "execution_count": null,
      "outputs": []
    },
    {
      "cell_type": "markdown",
      "source": [],
      "metadata": {
        "id": "IlsN2L6g9S9s"
      }
    },
    {
      "cell_type": "code",
      "source": [
        "def remove_permutations(ll):\n",
        "    i = 0\n",
        "    z = len(ll)\n",
        "    while i < z:\n",
        "        j = i + 1\n",
        "        a = sorted(ll[i])\n",
        "        while j < z:\n",
        "            # falls Permutation, dann entfernen.  Liste wird dadurch kürzer, daher jedesmal len(ll) überprüfen \n",
        "            b = sorted(ll[j])\n",
        "            if a == b:\n",
        "                ll.pop(j)\n",
        "                z = len(ll)\n",
        "                break\n",
        "            else:\n",
        "                j += 1\n",
        "        i += 1\n",
        "    return ll"
      ],
      "metadata": {
        "id": "hZC8eiI1-ESi"
      },
      "execution_count": null,
      "outputs": []
    },
    {
      "cell_type": "markdown",
      "source": [],
      "metadata": {
        "id": "s4-nkgaW-JTT"
      }
    },
    {
      "cell_type": "code",
      "source": [
        "def simple_cycles(G, limit):\n",
        "    subG = type(G)(G.edges())\n",
        "    sccs = list(nx.strongly_connected_components(subG))\n",
        "    while sccs:\n",
        "        scc = sccs.pop()\n",
        "        startnode = scc.pop()\n",
        "        path = [startnode]\n",
        "        blocked = set()\n",
        "        blocked.add(startnode)\n",
        "        stack = [(startnode, list(subG[startnode]))]\n",
        "\n",
        "        while stack:\n",
        "            thisnode, nbrs = stack[-1]\n",
        "\n",
        "            if nbrs and len(path) < limit:\n",
        "                nextnode = nbrs.pop()\n",
        "                if nextnode == startnode:\n",
        "                    yield path[:]\n",
        "                elif nextnode not in blocked:\n",
        "                    path.append(nextnode)\n",
        "                    stack.append((nextnode, list(subG[nextnode])))\n",
        "                    blocked.add(nextnode)\n",
        "                    continue\n",
        "            if not nbrs or len(path) >= limit:\n",
        "                blocked.remove(thisnode)\n",
        "                stack.pop()\n",
        "                path.pop()\n",
        "        subG.remove_node(startnode)\n",
        "        H = subG.subgraph(scc)\n",
        "        sccs.extend(list(nx.strongly_connected_components(H)))"
      ],
      "metadata": {
        "id": "ASsMa6Hm-JgJ"
      },
      "execution_count": null,
      "outputs": []
    },
    {
      "cell_type": "markdown",
      "source": [],
      "metadata": {
        "id": "bb6tTacj-Mth"
      }
    },
    {
      "cell_type": "code",
      "source": [
        "def fr_curvature (G, ni, nj):\n",
        "    '''\n",
        "    computes the Forman-Ricci curvature of a given edge \n",
        "    \n",
        "    Parameters\n",
        "    ----------\n",
        "    G : Graph\n",
        "    ni : node i\n",
        "    nj : node j\n",
        "\n",
        "    Returns\n",
        "    -------\n",
        "    frc : int\n",
        "        Forman Ricci curvature of the edge connecting nodes i and j\n",
        "\n",
        "    '''\n",
        "    frc = 4 - G.degree(ni) - G.degree(nj)\n",
        "    return frc "
      ],
      "metadata": {
        "id": "CtCMzRqk-M3h"
      },
      "execution_count": null,
      "outputs": []
    },
    {
      "cell_type": "markdown",
      "source": [],
      "metadata": {
        "id": "51DXa_lL-QuC"
      }
    },
    {
      "cell_type": "code",
      "source": [
        "def afr_curvature (G, ni, nj, m):\n",
        "    '''\n",
        "    computes the Augmented Forman-Ricci curvature of a given edge \n",
        "    includes 3-cycles in calculation \n",
        "    \n",
        "    Parameters\n",
        "    ----------\n",
        "    G : Graph\n",
        "    ni : node i\n",
        "    nj : node j\n",
        "    m : number of triangles containing the edge between node i and j\n",
        "\n",
        "    Returns\n",
        "    -------\n",
        "    afrc : int\n",
        "        Forman Ricci curvature of the edge connecting nodes i and j   \n",
        "    '''\n",
        "    afrc = 4 - G.degree(ni) - G.degree(nj) + 3*m\n",
        "    return afrc"
      ],
      "metadata": {
        "id": "5T-b3ezw-Q35"
      },
      "execution_count": null,
      "outputs": []
    },
    {
      "cell_type": "markdown",
      "source": [],
      "metadata": {
        "id": "RJ_B2SEQ-VUZ"
      }
    },
    {
      "cell_type": "code",
      "source": [
        "def afr4_curvature (G, ni, nj, t, q):\n",
        "    '''\n",
        "    computes the Augmented Forman-Ricci curvature of a given edge, \n",
        "    includes 3- and 4-cycles in calculation \n",
        "    \n",
        "    Parameters\n",
        "    ----------\n",
        "    G : Graph\n",
        "    ni : node i\n",
        "    nj : node j\n",
        "    t : number of triangles containing the edge between node i and j\n",
        "    q : number of quadrangles containing the edge between node i and j\n",
        "\n",
        "    Returns\n",
        "    -------\n",
        "    afrc4 : int\n",
        "        enhanced Forman Ricci curvature of the edge connecting nodes i and j   \n",
        "    '''\n",
        "    afrc4 = 4 - G.degree(ni) - G.degree(nj) + 3*t + 2*q\n",
        "    return afrc4"
      ],
      "metadata": {
        "id": "q_G_Gcrq-Vcz"
      },
      "execution_count": null,
      "outputs": []
    },
    {
      "cell_type": "markdown",
      "source": [],
      "metadata": {
        "id": "a1bogXxP-ZH7"
      }
    },
    {
      "cell_type": "code",
      "source": [
        "def afr5_curvature (G, ni, nj, t, q, p):\n",
        "    '''\n",
        "    computes the Augmented Forman-Ricci curvature of a given edge \n",
        "    includes 3-, 4- and 5-cycles in calculation \n",
        "    \n",
        "    Parameters\n",
        "    ----------\n",
        "    G : Graph\n",
        "    ni : node i\n",
        "    nj : node j\n",
        "    t : number of triangles containing the edge between node i and j\n",
        "    q : number of quadrangles containing the edge between node i and j\n",
        "    p : number of pentagons containing the edge between node i and j\n",
        "\n",
        "    Returns\n",
        "    -------\n",
        "    afrc5 : int\n",
        "        enhanced Forman Ricci curvature of the edge connecting nodes i and j   \n",
        "    '''\n",
        "    afrc5 = 4 - G.degree(ni) - G.degree(nj) + 3*t + 2*q + 1*p\n",
        "    return afrc5"
      ],
      "metadata": {
        "id": "QycFKu1C-ZQL"
      },
      "execution_count": null,
      "outputs": []
    },
    {
      "cell_type": "markdown",
      "source": [],
      "metadata": {
        "id": "bsF94nIh-coZ"
      }
    },
    {
      "cell_type": "code",
      "source": [
        "def init_edge_attributes(G):\n",
        "    curv_names = [\"frc\", \"afrc\", \"afrc4\", \"afrc5\"] \n",
        "    for (u,v) in list(G.edges()):\n",
        "        for i in range(3,6):\n",
        "            G.edges[u,v][cyc_names[i]] = []\n",
        "        for cn in curv_names:\n",
        "            G.edges[u,v][cn] = 0"
      ],
      "metadata": {
        "id": "I0wygE0H-cwx"
      },
      "execution_count": null,
      "outputs": []
    },
    {
      "cell_type": "markdown",
      "source": [],
      "metadata": {
        "id": "xUzg9wWW-foq"
      }
    },
    {
      "cell_type": "code",
      "source": [
        "def set_edge_attributes_2 (G, ll, i):\n",
        "    for l in ll:     # für jeden Zyklus in der Liste der Zyklen\n",
        "        for e1 in range(0, i): \n",
        "            if e1 == i-1:\n",
        "                e2 = 0\n",
        "            else:\n",
        "                e2 = e1 + 1\n",
        "            u = l[e1]\n",
        "            v = l[e2]\n",
        "            G.edges[u,v][cyc_names[i]].append(l)"
      ],
      "metadata": {
        "id": "mUWtENlJ-fyZ"
      },
      "execution_count": null,
      "outputs": []
    },
    {
      "cell_type": "markdown",
      "source": [],
      "metadata": {
        "id": "8fa_xZGK-t8M"
      }
    },
    {
      "cell_type": "code",
      "source": [
        "def get_orc_edge_curvatures (G):          \n",
        "    # compute the Ollivier-Ricci curvature of the given graph G\n",
        "    orc = OllivierRicci(G, alpha=0.5, verbose=\"INFO\")\n",
        "    orc.compute_ricci_curvature()\n",
        "    # transfer curvatire values from orc.G to G \n",
        "    for (u,v) in list(orc.G.edges()):               # für jede Kante\n",
        "        G.edges[u,v][\"orc\"] = orc.G.edges[u,v][\"ricciCurvature\"]"
      ],
      "metadata": {
        "id": "PewzLQ0m-uFD"
      },
      "execution_count": null,
      "outputs": []
    },
    {
      "cell_type": "markdown",
      "source": [],
      "metadata": {
        "id": "FU-rTUDH-yLS"
      }
    },
    {
      "cell_type": "code",
      "source": [
        "def get_edge_curvatures (G):            \n",
        "    for (u,v) in list(G.edges()):               # für jede Kante\n",
        "        tr = len(G.edges[u,v][cyc_names[3]])\n",
        "        qu = len(G.edges[u,v][cyc_names[4]])\n",
        "        pe = len(G.edges[u,v][cyc_names[5]])\n",
        "        G.edges[u,v][\"frc\"] = fr_curvature(G, u, v)        \n",
        "        G.edges[u,v][\"afrc\"] = afr_curvature(G, u, v, tr)\n",
        "        G.edges[u,v][\"afrc4\"] = afr4_curvature(G, u, v, tr, qu)\n",
        "        G.edges[u,v][\"afrc5\"] = afr5_curvature(G, u, v, tr, qu, pe)    "
      ],
      "metadata": {
        "id": "gTJZrOR9-yTi"
      },
      "execution_count": null,
      "outputs": []
    },
    {
      "cell_type": "markdown",
      "source": [],
      "metadata": {
        "id": "kVsr04kj-2yk"
      }
    },
    {
      "cell_type": "code",
      "source": [
        "def show_curv_min_max_values (h_data):\n",
        "    print(\"\\nMin/Max Curvature values:\")\n",
        "    for k in h_data.keys():\n",
        "        print(str(k).ljust(8), \n",
        "              \"{0:<5s} {1:4d}\".format(\"Min:\", h_data[k][\"bin_min\"]), \"  \",\n",
        "              \"{0:<5s} {1:4d}\".format(\"Max:\", h_data[k][\"bin_max\"])\n",
        "              )\n",
        "    print()"
      ],
      "metadata": {
        "id": "0AlnmMQP-26p"
      },
      "execution_count": null,
      "outputs": []
    },
    {
      "cell_type": "markdown",
      "source": [],
      "metadata": {
        "id": "lTYPqFSu-5d7"
      }
    },
    {
      "cell_type": "code",
      "source": [
        "def show_histos (h_data, title_str, my_nrows = 2, my_ncols = 3, bin_num_lim = 40):\n",
        "    fig, axes = plt.subplots(nrows=my_nrows, ncols=my_ncols, sharey = True, figsize=(16,10))\n",
        "    for i,k in enumerate(h_data.keys()):\n",
        "        r = i // my_ncols\n",
        "        c = i % my_ncols\n",
        "        bin_width = (h_data[k][\"bin_max\"] - h_data[k][\"bin_min\"]) // bin_num_lim + 1\n",
        "        axes[r,c].hist(h_data[k][\"curv\"], bins = np.arange(h_data[k][\"bin_min\"], h_data[k][\"bin_max\"] + bin_width, bin_width), edgecolor = \"white\")\n",
        "        axes[r,c].set_title(h_data[k][\"title\"])\n",
        "        axes[r,c].title.set_size(16)\n",
        "        axes[r,c].tick_params(axis='both', labelsize=16)\n",
        "        axes[r,c].grid(visible=True, axis=\"both\")\n",
        "    fig.suptitle(title_str, size=16)\n",
        "    plt.show()   "
      ],
      "metadata": {
        "id": "TBRQ0KIe-5nJ"
      },
      "execution_count": null,
      "outputs": []
    },
    {
      "cell_type": "markdown",
      "source": [],
      "metadata": {
        "id": "ZHeiH9iZ--do"
      }
    },
    {
      "cell_type": "code",
      "source": [
        "def show_correlation_coeffs (h_data):\n",
        "    print(\"\\nCorrelation coefficients:\")\n",
        "    ks = list(h_data.keys())\n",
        "    for i in range(len(ks)):\n",
        "        for j in range(i+1, len(ks)):\n",
        "            s = h_data[ks[i]][\"title\"] + \" / \" + h_data[ks[j]][\"title\"]\n",
        "            c = np.corrcoef(h_data[ks[i]][\"curv\"], h_data[ks[j]][\"curv\"])[1][0]\n",
        "            print(s.ljust(55,\".\"), f\"{c:8.5f}\")\n",
        "        print()"
      ],
      "metadata": {
        "id": "P3J1hD6w--ly"
      },
      "execution_count": null,
      "outputs": []
    },
    {
      "cell_type": "markdown",
      "source": [],
      "metadata": {
        "id": "kpQE68_E_B6q"
      }
    },
    {
      "cell_type": "code",
      "source": [
        "def show_curv_data (G, title_str):\n",
        "    h_data = {\"orc\":  {\"curv\": [d[\"orc\"]   for u,v,d in G.edges.data()], \"bin_min\":0, \"bin_max\":0, \"title\":\"Ollivier Ricci (OR)\"},\n",
        "              \"frc\":  {\"curv\": [d[\"frc\"]   for u,v,d in G.edges.data()], \"bin_min\":0, \"bin_max\":0, \"title\":\"Forman Ricci (FR)\"},\n",
        "              \"afrc\": {\"curv\": [d[\"afrc\"]  for u,v,d in G.edges.data()], \"bin_min\":0, \"bin_max\":0, \"title\":\"Augm. FR curv. (triangles)\"},\n",
        "              \"afrc4\":{\"curv\": [d[\"afrc4\"] for u,v,d in G.edges.data()], \"bin_min\":0, \"bin_max\":0, \"title\":\"AFR curv. (tri/quad)\"},\n",
        "              \"afrc5\":{\"curv\": [d[\"afrc5\"] for u,v,d in G.edges.data()], \"bin_min\":0, \"bin_max\":0, \"title\":\"AFR curv. (tri/quad/pent)\"}\n",
        "              }\n",
        "    \n",
        "    for k in h_data.keys():\n",
        "        h_data[k][\"bin_min\"] = int(min(h_data[k][\"curv\"]))\n",
        "        h_data[k][\"bin_max\"] = int(max(h_data[k][\"curv\"]))\n",
        "        \n",
        "    show_curv_min_max_values (h_data)\n",
        "    show_histos (h_data, title_str, my_nrows = 2, my_ncols = 3, bin_num_lim = 40)\n",
        "    show_correlation_coeffs(h_data)"
      ],
      "metadata": {
        "id": "rR4y143A_CEg"
      },
      "execution_count": null,
      "outputs": []
    },
    {
      "cell_type": "markdown",
      "source": [],
      "metadata": {
        "id": "GLeiH3yl_NYZ"
      }
    },
    {
      "cell_type": "code",
      "source": [
        "cyc_names = {3:\"triangles\", 4:\"quadrangles\", 5:\"pentagons\"}        \n"
      ],
      "metadata": {
        "id": "d14ZSw1Y_Nhb"
      },
      "execution_count": null,
      "outputs": []
    },
    {
      "cell_type": "markdown",
      "source": [],
      "metadata": {
        "id": "ZJB-_KBs_RAS"
      }
    },
    {
      "cell_type": "code",
      "source": [
        "def build_size_list (k, l):\n",
        "    ll = [k  for i in range(l)]\n",
        "    return ll"
      ],
      "metadata": {
        "id": "fAP9hsv9_RKh"
      },
      "execution_count": null,
      "outputs": []
    },
    {
      "cell_type": "markdown",
      "source": [],
      "metadata": {
        "id": "te8KkVBo_URR"
      }
    },
    {
      "cell_type": "code",
      "source": [
        "def build_prob_list (n, p_in, p_out):\n",
        "    ll = []\n",
        "    for i in range(n):    \n",
        "        temp_l = [p_out  for j in range(0,i)] + [p_in] + [p_out  for j in range(i+2,n+1)]\n",
        "        ll.append(temp_l)\n",
        "    return ll"
      ],
      "metadata": {
        "id": "_DziWKDJ_Yv9"
      },
      "execution_count": null,
      "outputs": []
    },
    {
      "cell_type": "markdown",
      "source": [],
      "metadata": {
        "id": "NpWEY_w1_apB"
      }
    },
    {
      "cell_type": "code",
      "source": [
        "def calculate_SBM(k, l, p_in, p_out, title_str):\n",
        "    print(\"k:\",k,\" l:\",l,\" p_in:\",p_in,\" p_out:\",p_out)\n",
        "    sizes = build_size_list(k, l)\n",
        "    probs = build_prob_list(l, p_in, p_out)\n",
        "    \n",
        "    G = nx.stochastic_block_model(sizes, probs, seed = 0)\n",
        "    init_edge_attributes(G)\n",
        "      \n",
        "    H = G.to_directed()\n",
        "    \n",
        "    pos1 = nx.kamada_kawai_layout(H)\n",
        "    blocks = [v[\"block\"]  for u,v in H.nodes.data()]\n",
        "    # plot_my_graph(H, pos1, node_col = blocks)\n",
        "    \n",
        "    cycles = []\n",
        "    for c in simple_cycles(H, 6):\n",
        "        cycles.append(c) \n",
        "    \n",
        "    d = dict()\n",
        "    for i in range(3,6):\n",
        "        d[i] = [c  for c in cycles  if len(c) == i]\n",
        "        d[i] = remove_permutations(d[i])\n",
        "        set_edge_attributes_2(G, d[i], i)\n",
        "        \n",
        "    get_orc_edge_curvatures (G)\n",
        "    get_edge_curvatures (G)\n",
        "    show_curv_data (G, title_str)\n",
        "        \n",
        "    return d"
      ],
      "metadata": {
        "id": "QtpCDXDa_Yxm"
      },
      "execution_count": null,
      "outputs": []
    },
    {
      "cell_type": "markdown",
      "source": [],
      "metadata": {
        "id": "ZoSLMzI8_ciq"
      }
    },
    {
      "cell_type": "code",
      "source": [
        "def calculate_SBMs():\n",
        "    ll_k = [5,10,15,20]\n",
        "    k_def = 15\n",
        "    ll_l = [2,3,4,5]\n",
        "    l_def = 5\n",
        "    ll_p_in = [0.6, 0.7, 0.8, 0.9]\n",
        "    p_in_def = 0.7\n",
        "    ll_p_out = [0.05, 0.03, 0.02, 0.01]\n",
        "    p_out_def = 0.05\n",
        "    for k in ll_k:\n",
        "        s = \"Variation of community size / k = \" + str(k) + \"\\n\" + \\\n",
        "            \"k=\" + str(k) + \" l=\" + str(l_def) + \" p_in:\" + str(p_in_def) + \" p_out:\" + str(p_out_def)\n",
        "        calculate_SBM(k, l_def, p_in_def, p_out_def, s)\n",
        "    for l in ll_l:\n",
        "        s = \"Variation of number of communities / l = \" + str(l) + \"\\n\" + \\\n",
        "            \"k=\" + str(k_def) + \"  l=\" + str(l) +  \"  p_in=\" + str(p_in_def) + \"  p_out=\" + str(p_out_def)\n",
        "        d = calculate_SBM(k_def, l, p_in_def, p_out_def, s)\n",
        "    for p_in in ll_p_in:\n",
        "        s = \"Variation of p_in / p_in = \" + str(p_in) + \"\\n\" + \\\n",
        "            \"k=\" + str(k_def) + \" l=\" + str(l_def) +  \" p_in:\" + str(p_in) + \" p_out:\" + str(p_out_def)\n",
        "        calculate_SBM(k_def, l_def, p_in, p_out_def, s)\n",
        "    for p_out in ll_p_out:\n",
        "        s = \"Variation of p_out / p_out = \" + str(p_out) + \"\\n\" + \\\n",
        "            \"k=\" + str(k_def) + \" l=\" + str(l_def) +  \" p_in:\" + str(p_in_def) + \" p_out:\" + str(p_out)\n",
        "        calculate_SBM(k_def, l_def, p_in_def, p_out, s)\n",
        "    \n",
        "    return d"
      ],
      "metadata": {
        "id": "6I8yHZlO_Yy7"
      },
      "execution_count": null,
      "outputs": []
    },
    {
      "cell_type": "markdown",
      "source": [],
      "metadata": {
        "id": "BkuMWC5cAAGS"
      }
    },
    {
      "cell_type": "code",
      "source": [
        "d = calculate_SBMs()  "
      ],
      "metadata": {
        "id": "7vs_QpemAAUR"
      },
      "execution_count": null,
      "outputs": []
    }
  ]
}