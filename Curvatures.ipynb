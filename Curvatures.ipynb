{
  "nbformat": 4,
  "nbformat_minor": 0,
  "metadata": {
    "colab": {
      "provenance": [],
      "collapsed_sections": [],
      "authorship_tag": "ABX9TyPJ0XeqqICLEaTrsTipW+KI",
      "include_colab_link": true
    },
    "kernelspec": {
      "name": "python3",
      "display_name": "Python 3"
    },
    "language_info": {
      "name": "python"
    }
  },
  "cells": [
    {
      "cell_type": "markdown",
      "metadata": {
        "id": "view-in-github",
        "colab_type": "text"
      },
      "source": [
        "<a href=\"https://colab.research.google.com/github/RFesser/hello-world/blob/master/Curvatures.ipynb\" target=\"_parent\"><img src=\"https://colab.research.google.com/assets/colab-badge.svg\" alt=\"Open In Colab\"/></a>"
      ]
    },
    {
      "cell_type": "code",
      "execution_count": 1,
      "metadata": {
        "colab": {
          "base_uri": "https://localhost:8080/",
          "height": 337
        },
        "id": "s2DhuwTm9Lys",
        "outputId": "26918ce1-0d07-44cd-f2ee-50109caa100a"
      },
      "outputs": [
        {
          "output_type": "stream",
          "name": "stdout",
          "text": [
            "Looking in indexes: https://pypi.org/simple, https://us-python.pkg.dev/colab-wheels/public/simple/\n",
            "Collecting GraphRicciCurvature\n",
            "  Downloading GraphRicciCurvature-0.5.3.1-py3-none-any.whl (23 kB)\n",
            "Collecting pot>=0.8.0\n",
            "  Downloading POT-0.8.2-cp37-cp37m-manylinux_2_12_x86_64.manylinux2010_x86_64.whl (664 kB)\n",
            "\u001b[K     |████████████████████████████████| 664 kB 7.1 MB/s \n",
            "\u001b[?25hRequirement already satisfied: networkx>=2.0 in /usr/local/lib/python3.7/dist-packages (from GraphRicciCurvature) (2.6.3)\n",
            "Requirement already satisfied: cython in /usr/local/lib/python3.7/dist-packages (from GraphRicciCurvature) (0.29.32)\n",
            "Requirement already satisfied: numpy in /usr/local/lib/python3.7/dist-packages (from GraphRicciCurvature) (1.21.6)\n",
            "Requirement already satisfied: python-louvain in /usr/local/lib/python3.7/dist-packages (from GraphRicciCurvature) (0.16)\n",
            "Collecting networkit>=6.1\n",
            "  Downloading networkit-10.0-cp37-cp37m-manylinux_2_12_x86_64.manylinux2010_x86_64.whl (9.8 MB)\n",
            "\u001b[K     |████████████████████████████████| 9.8 MB 31.8 MB/s \n",
            "\u001b[?25hRequirement already satisfied: scipy>=1.0 in /usr/local/lib/python3.7/dist-packages (from GraphRicciCurvature) (1.7.3)\n",
            "Requirement already satisfied: packaging in /usr/local/lib/python3.7/dist-packages (from GraphRicciCurvature) (21.3)\n",
            "Requirement already satisfied: pyparsing!=3.0.5,>=2.0.2 in /usr/local/lib/python3.7/dist-packages (from packaging->GraphRicciCurvature) (3.0.9)\n",
            "Installing collected packages: pot, networkit, GraphRicciCurvature\n",
            "Successfully installed GraphRicciCurvature-0.5.3.1 networkit-10.0 pot-0.8.2\n"
          ]
        },
        {
          "output_type": "display_data",
          "data": {
            "text/html": [
              "\n",
              "\t\t\t<script type=\"text/javascript\">\n",
              "\t\t\t<!--\n",
              "\t\t\t\t\n",
              "\t\t\t{\n",
              "\t\t\t\tvar element = document.getElementById('NetworKit_script');\n",
              "\t\t\t\tif (element) {\n",
              "\t\t\t\t\telement.parentNode.removeChild(element);\n",
              "\t\t\t\t}\n",
              "\t\t\t\telement = document.createElement('script');\n",
              "\t\t\t\telement.type = 'text/javascript';\n",
              "\t\t\t\telement.innerHTML = 'function NetworKit_pageEmbed(id) { var i, j; var elements; elements = document.getElementById(id).getElementsByClassName(\"Plot\"); for (i=0; i<elements.length; i++) { elements[i].id = id + \"_Plot_\" + i; var data = elements[i].getAttribute(\"data-image\").split(\"|\"); elements[i].removeAttribute(\"data-image\"); var content = \"<div class=\\\\\"Image\\\\\" id=\\\\\"\" + elements[i].id + \"_Image\\\\\" />\"; elements[i].innerHTML = content; elements[i].setAttribute(\"data-image-index\", 0); elements[i].setAttribute(\"data-image-length\", data.length); for (j=0; j<data.length; j++) { elements[i].setAttribute(\"data-image-\" + j, data[j]); } NetworKit_plotUpdate(elements[i]); elements[i].onclick = function (e) { NetworKit_overlayShow((e.target) ? e.target : e.srcElement); } } elements = document.getElementById(id).getElementsByClassName(\"HeatCell\"); for (i=0; i<elements.length; i++) { var data = parseFloat(elements[i].getAttribute(\"data-heat\")); var color = \"#00FF00\"; if (data <= 1 && data > 0) { color = \"hsla(0, 100%, 75%, \" + (data) + \")\"; } else if (data <= 0 && data >= -1) { color = \"hsla(240, 100%, 75%, \" + (-data) + \")\"; } elements[i].style.backgroundColor = color; } elements = document.getElementById(id).getElementsByClassName(\"Details\"); for (i=0; i<elements.length; i++) { elements[i].setAttribute(\"data-title\", \"-\"); NetworKit_toggleDetails(elements[i]); elements[i].onclick = function (e) { NetworKit_toggleDetails((e.target) ? e.target : e.srcElement); } } elements = document.getElementById(id).getElementsByClassName(\"MathValue\"); for (i=elements.length-1; i>=0; i--) { value = elements[i].innerHTML.trim(); if (value === \"nan\") { elements[i].parentNode.innerHTML = \"\" } } elements = document.getElementById(id).getElementsByClassName(\"SubCategory\"); for (i=elements.length-1; i>=0; i--) { value = elements[i].innerHTML.trim(); if (value === \"\") { elements[i].parentNode.removeChild(elements[i]) } } elements = document.getElementById(id).getElementsByClassName(\"Category\"); for (i=elements.length-1; i>=0; i--) { value = elements[i].innerHTML.trim(); if (value === \"\") { elements[i].parentNode.removeChild(elements[i]) } } var isFirefox = false; try { isFirefox = typeof InstallTrigger !== \"undefined\"; } catch (e) {} if (!isFirefox) { alert(\"Currently the function\\'s output is only fully supported by Firefox.\"); } } function NetworKit_plotUpdate(source) { var index = source.getAttribute(\"data-image-index\"); var data = source.getAttribute(\"data-image-\" + index); var image = document.getElementById(source.id + \"_Image\"); image.style.backgroundImage = \"url(\" + data + \")\"; } function NetworKit_showElement(id, show) { var element = document.getElementById(id); element.style.display = (show) ? \"block\" : \"none\"; } function NetworKit_overlayShow(source) { NetworKit_overlayUpdate(source); NetworKit_showElement(\"NetworKit_Overlay\", true); } function NetworKit_overlayUpdate(source) { document.getElementById(\"NetworKit_Overlay_Title\").innerHTML = source.title; var index = source.getAttribute(\"data-image-index\"); var data = source.getAttribute(\"data-image-\" + index); var image = document.getElementById(\"NetworKit_Overlay_Image\"); image.setAttribute(\"data-id\", source.id); image.style.backgroundImage = \"url(\" + data + \")\"; var link = document.getElementById(\"NetworKit_Overlay_Toolbar_Bottom_Save\"); link.href = data; link.download = source.title + \".svg\"; } function NetworKit_overlayImageShift(delta) { var image = document.getElementById(\"NetworKit_Overlay_Image\"); var source = document.getElementById(image.getAttribute(\"data-id\")); var index = parseInt(source.getAttribute(\"data-image-index\")); var length = parseInt(source.getAttribute(\"data-image-length\")); var index = (index+delta) % length; if (index < 0) { index = length + index; } source.setAttribute(\"data-image-index\", index); NetworKit_overlayUpdate(source); } function NetworKit_toggleDetails(source) { var childs = source.children; var show = false; if (source.getAttribute(\"data-title\") == \"-\") { source.setAttribute(\"data-title\", \"+\"); show = false; } else { source.setAttribute(\"data-title\", \"-\"); show = true; } for (i=0; i<childs.length; i++) { if (show) { childs[i].style.display = \"block\"; } else { childs[i].style.display = \"none\"; } } }';\n",
              "\t\t\t\telement.setAttribute('id', 'NetworKit_script');\n",
              "\t\t\t\tdocument.head.appendChild(element);\n",
              "\t\t\t}\n",
              "\t\t\n",
              "\t\t\t\t\n",
              "\t\t\t{\n",
              "\t\t\t\tvar element = document.getElementById('NetworKit_style');\n",
              "\t\t\t\tif (element) {\n",
              "\t\t\t\t\telement.parentNode.removeChild(element);\n",
              "\t\t\t\t}\n",
              "\t\t\t\telement = document.createElement('style');\n",
              "\t\t\t\telement.type = 'text/css';\n",
              "\t\t\t\telement.innerHTML = '.NetworKit_Page { font-family: Arial, Helvetica, sans-serif; font-size: 14px; } .NetworKit_Page .Value:before { font-family: Arial, Helvetica, sans-serif; font-size: 1.05em; content: attr(data-title) \":\"; margin-left: -2.5em; padding-right: 0.5em; } .NetworKit_Page .Details .Value:before { display: block; } .NetworKit_Page .Value { font-family: monospace; white-space: pre; padding-left: 2.5em; white-space: -moz-pre-wrap !important; white-space: -pre-wrap; white-space: -o-pre-wrap; white-space: pre-wrap; word-wrap: break-word; tab-size: 4; -moz-tab-size: 4; } .NetworKit_Page .Category { clear: both; padding-left: 1em; margin-bottom: 1.5em; } .NetworKit_Page .Category:before { content: attr(data-title); font-size: 1.75em; display: block; margin-left: -0.8em; margin-bottom: 0.5em; } .NetworKit_Page .SubCategory { margin-bottom: 1.5em; padding-left: 1em; } .NetworKit_Page .SubCategory:before { font-size: 1.6em; display: block; margin-left: -0.8em; margin-bottom: 0.5em; } .NetworKit_Page .SubCategory[data-title]:before { content: attr(data-title); } .NetworKit_Page .Block { display: block; } .NetworKit_Page .Block:after { content: \".\"; visibility: hidden; display: block; height: 0; clear: both; } .NetworKit_Page .Block .Thumbnail_Overview, .NetworKit_Page .Block .Thumbnail_ScatterPlot { width: 260px; float: left; } .NetworKit_Page .Block .Thumbnail_Overview img, .NetworKit_Page .Block .Thumbnail_ScatterPlot img { width: 260px; } .NetworKit_Page .Block .Thumbnail_Overview:before, .NetworKit_Page .Block .Thumbnail_ScatterPlot:before { display: block; text-align: center; font-weight: bold; } .NetworKit_Page .Block .Thumbnail_Overview:before { content: attr(data-title); } .NetworKit_Page .HeatCell { font-family: \"Courier New\", Courier, monospace; cursor: pointer; } .NetworKit_Page .HeatCell, .NetworKit_Page .HeatCellName { display: inline; padding: 0.1em; margin-right: 2px; background-color: #FFFFFF } .NetworKit_Page .HeatCellName { margin-left: 0.25em; } .NetworKit_Page .HeatCell:before { content: attr(data-heat); display: inline-block; color: #000000; width: 4em; text-align: center; } .NetworKit_Page .Measure { clear: both; } .NetworKit_Page .Measure .Details { cursor: pointer; } .NetworKit_Page .Measure .Details:before { content: \"[\" attr(data-title) \"]\"; display: block; } .NetworKit_Page .Measure .Details .Value { border-left: 1px dotted black; margin-left: 0.4em; padding-left: 3.5em; pointer-events: none; } .NetworKit_Page .Measure .Details .Spacer:before { content: \".\"; opacity: 0.0; pointer-events: none; } .NetworKit_Page .Measure .Plot { width: 440px; height: 440px; cursor: pointer; float: left; margin-left: -0.9em; margin-right: 20px; } .NetworKit_Page .Measure .Plot .Image { background-repeat: no-repeat; background-position: center center; background-size: contain; height: 100%; pointer-events: none; } .NetworKit_Page .Measure .Stat { width: 500px; float: left; } .NetworKit_Page .Measure .Stat .Group { padding-left: 1.25em; margin-bottom: 0.75em; } .NetworKit_Page .Measure .Stat .Group .Title { font-size: 1.1em; display: block; margin-bottom: 0.3em; margin-left: -0.75em; border-right-style: dotted; border-right-width: 1px; border-bottom-style: dotted; border-bottom-width: 1px; background-color: #D0D0D0; padding-left: 0.2em; } .NetworKit_Page .Measure .Stat .Group .List { -webkit-column-count: 3; -moz-column-count: 3; column-count: 3; } .NetworKit_Page .Measure .Stat .Group .List .Entry { position: relative; line-height: 1.75em; } .NetworKit_Page .Measure .Stat .Group .List .Entry[data-tooltip]:before { position: absolute; left: 0; top: -40px; background-color: #808080; color: #ffffff; height: 30px; line-height: 30px; border-radius: 5px; padding: 0 15px; content: attr(data-tooltip); white-space: nowrap; display: none; } .NetworKit_Page .Measure .Stat .Group .List .Entry[data-tooltip]:after { position: absolute; left: 15px; top: -10px; border-top: 7px solid #808080; border-left: 7px solid transparent; border-right: 7px solid transparent; content: \"\"; display: none; } .NetworKit_Page .Measure .Stat .Group .List .Entry[data-tooltip]:hover:after, .NetworKit_Page .Measure .Stat .Group .List .Entry[data-tooltip]:hover:before { display: block; } .NetworKit_Page .Measure .Stat .Group .List .Entry .MathValue { font-family: \"Courier New\", Courier, monospace; } .NetworKit_Page .Measure:after { content: \".\"; visibility: hidden; display: block; height: 0; clear: both; } .NetworKit_Page .PartitionPie { clear: both; } .NetworKit_Page .PartitionPie img { width: 600px; } #NetworKit_Overlay { left: 0px; top: 0px; display: none; position: absolute; width: 100%; height: 100%; background-color: rgba(0,0,0,0.6); z-index: 1000; } #NetworKit_Overlay_Title { position: absolute; color: white; transform: rotate(-90deg); width: 32em; height: 32em; padding-right: 0.5em; padding-top: 0.5em; text-align: right; font-size: 40px; } #NetworKit_Overlay .button { background: white; cursor: pointer; } #NetworKit_Overlay .button:before { size: 13px; display: inline-block; text-align: center; margin-top: 0.5em; margin-bottom: 0.5em; width: 1.5em; height: 1.5em; } #NetworKit_Overlay .icon-close:before { content: \"X\"; } #NetworKit_Overlay .icon-previous:before { content: \"P\"; } #NetworKit_Overlay .icon-next:before { content: \"N\"; } #NetworKit_Overlay .icon-save:before { content: \"S\"; } #NetworKit_Overlay_Toolbar_Top, #NetworKit_Overlay_Toolbar_Bottom { position: absolute; width: 40px; right: 13px; text-align: right; z-index: 1100; } #NetworKit_Overlay_Toolbar_Top { top: 0.5em; } #NetworKit_Overlay_Toolbar_Bottom { Bottom: 0.5em; } #NetworKit_Overlay_ImageContainer { position: absolute; top: 5%; left: 5%; height: 90%; width: 90%; background-repeat: no-repeat; background-position: center center; background-size: contain; } #NetworKit_Overlay_Image { height: 100%; width: 100%; background-repeat: no-repeat; background-position: center center; background-size: contain; }';\n",
              "\t\t\t\telement.setAttribute('id', 'NetworKit_style');\n",
              "\t\t\t\tdocument.head.appendChild(element);\n",
              "\t\t\t}\n",
              "\t\t\n",
              "\t\t\t\t\n",
              "\t\t\t{\n",
              "\t\t\t\tvar element = document.getElementById('NetworKit_Overlay');\n",
              "\t\t\t\tif (element) {\n",
              "\t\t\t\t\telement.parentNode.removeChild(element);\n",
              "\t\t\t\t}\n",
              "\t\t\t\telement = document.createElement('div');\n",
              "\t\t\t\telement.innerHTML = '<div id=\"NetworKit_Overlay_Toolbar_Top\"><div class=\"button icon-close\" id=\"NetworKit_Overlay_Close\" /></div><div id=\"NetworKit_Overlay_Title\" /> <div id=\"NetworKit_Overlay_ImageContainer\"> <div id=\"NetworKit_Overlay_Image\" /> </div> <div id=\"NetworKit_Overlay_Toolbar_Bottom\"> <div class=\"button icon-previous\" onclick=\"NetworKit_overlayImageShift(-1)\" /> <div class=\"button icon-next\" onclick=\"NetworKit_overlayImageShift(1)\" /> <a id=\"NetworKit_Overlay_Toolbar_Bottom_Save\"><div class=\"button icon-save\" /></a> </div>';\n",
              "\t\t\t\telement.setAttribute('id', 'NetworKit_Overlay');\n",
              "\t\t\t\tdocument.body.appendChild(element);\n",
              "\t\t\t\tdocument.getElementById('NetworKit_Overlay_Close').onclick = function (e) {\n",
              "\t\t\t\t\tdocument.getElementById('NetworKit_Overlay').style.display = 'none';\n",
              "\t\t\t\t}\n",
              "\t\t\t}\n",
              "\t\t\n",
              "\t\t\t-->\n",
              "\t\t\t</script>\n",
              "\t\t"
            ]
          },
          "metadata": {}
        }
      ],
      "source": [
        "# install GraphRicciCurvature package\n",
        "\n",
        "!pip install GraphRicciCurvature\n",
        "\n",
        "# import packages\n",
        "\n",
        "import networkx as nx\n",
        "import matplotlib.pyplot as plt\n",
        "from time import perf_counter\n",
        "import numpy as np\n",
        "\n",
        "from GraphRicciCurvature.FormanRicci import FormanRicci\n",
        "from GraphRicciCurvature.OllivierRicci import OllivierRicci\n"
      ]
    },
    {
      "cell_type": "markdown",
      "source": [],
      "metadata": {
        "id": "EOWzZsjw99H8"
      }
    },
    {
      "cell_type": "code",
      "source": [
        "def plot_my_graph(G, pos, ax = None, node_col = \"white\", \n",
        "                  edge_lst = [], edge_col = \"lightgrey\", edge_lab = {},\n",
        "                  bbox = None, color_map = \"Set3\", alpha = 1.0):\n",
        "    node_options = {\n",
        "        \"font_size\": 12, \n",
        "        \"font_color\": \"black\",\n",
        "        \"node_size\": 300, \n",
        "        \"cmap\": plt.get_cmap(color_map),\n",
        "        \"alpha\": alpha,\n",
        "        \"edgecolors\": \"black\",\n",
        "        \"linewidths\": 0.5,   \n",
        "        \"with_labels\": True,\n",
        "        \"edgelist\": None\n",
        "        }\n",
        "    edge_options = {\n",
        "        \"width\": 0.5\n",
        "        }\n",
        "    fig = plt.figure(figsize=(15,15))\n",
        "    nx.draw_networkx (G, pos, node_color = node_col, edge_color = edge_col, **node_options)\n",
        "    nx.draw_networkx_edges (G, pos, edge_lst, edge_color = edge_col, **edge_options)\n",
        "    nx.draw_networkx_edge_labels(G, pos, label_pos = 0.5, edge_labels = edge_lab, rotate=False, bbox = bbox)\n",
        "    plt.gca().margins(0.20)\n",
        "    plt.show()"
      ],
      "metadata": {
        "id": "W3oT0idD9-Jj"
      },
      "execution_count": 2,
      "outputs": []
    },
    {
      "cell_type": "markdown",
      "source": [],
      "metadata": {
        "id": "IlsN2L6g9S9s"
      }
    },
    {
      "cell_type": "code",
      "source": [
        "def simple_cycles(G, limit):\n",
        "    subG = type(G)(G.edges())\n",
        "    sccs = list(nx.strongly_connected_components(subG))\n",
        "    while sccs:\n",
        "        scc = sccs.pop()\n",
        "        startnode = scc.pop()\n",
        "        path = [startnode]\n",
        "        blocked = set()\n",
        "        blocked.add(startnode)\n",
        "        stack = [(startnode, list(subG[startnode]))]\n",
        "\n",
        "        while stack:\n",
        "            thisnode, nbrs = stack[-1]\n",
        "\n",
        "            if nbrs and len(path) < limit:\n",
        "                nextnode = nbrs.pop()\n",
        "                if nextnode == startnode:\n",
        "                    yield path[:]\n",
        "                elif nextnode not in blocked:\n",
        "                    path.append(nextnode)\n",
        "                    stack.append((nextnode, list(subG[nextnode])))\n",
        "                    blocked.add(nextnode)\n",
        "                    continue\n",
        "            if not nbrs or len(path) >= limit:\n",
        "                blocked.remove(thisnode)\n",
        "                stack.pop()\n",
        "                path.pop()\n",
        "        subG.remove_node(startnode)\n",
        "        H = subG.subgraph(scc)\n",
        "        sccs.extend(list(nx.strongly_connected_components(H)))"
      ],
      "metadata": {
        "id": "ASsMa6Hm-JgJ"
      },
      "execution_count": 4,
      "outputs": []
    },
    {
      "cell_type": "markdown",
      "source": [],
      "metadata": {
        "id": "bb6tTacj-Mth"
      }
    },
    {
      "cell_type": "code",
      "source": [
        "def fr_curvature (G, ni, nj):\n",
        "    '''\n",
        "    computes the Forman-Ricci curvature of a given edge \n",
        "    \n",
        "    Parameters\n",
        "    ----------\n",
        "    G : Graph\n",
        "    ni : node i\n",
        "    nj : node j\n",
        "\n",
        "    Returns\n",
        "    -------\n",
        "    frc : int\n",
        "        Forman Ricci curvature of the edge connecting nodes i and j\n",
        "\n",
        "    '''\n",
        "    frc = 4 - G.degree(ni) - G.degree(nj)\n",
        "    return frc "
      ],
      "metadata": {
        "id": "CtCMzRqk-M3h"
      },
      "execution_count": 5,
      "outputs": []
    },
    {
      "cell_type": "markdown",
      "source": [],
      "metadata": {
        "id": "51DXa_lL-QuC"
      }
    },
    {
      "cell_type": "code",
      "source": [
        "def afr_curvature (G, ni, nj, t_coeff, t_num):\n",
        "    '''\n",
        "    computes the Augmented Forman-Ricci curvature of a given edge \n",
        "    includes 3-cycles in calculation \n",
        "    \n",
        "    Parameters\n",
        "    ----------\n",
        "    G : Graph\n",
        "    ni : node i\n",
        "    nj : node j\n",
        "    m : number of triangles containing the edge between node i and j\n",
        "\n",
        "    Returns\n",
        "    -------\n",
        "    afrc : int\n",
        "        Forman Ricci curvature of the edge connecting nodes i and j   \n",
        "    '''\n",
        "    afrc = 4 - G.degree(ni) - G.degree(nj) + t_coeff * t_num\n",
        "    return afrc"
      ],
      "metadata": {
        "id": "5T-b3ezw-Q35"
      },
      "execution_count": 6,
      "outputs": []
    },
    {
      "cell_type": "markdown",
      "source": [],
      "metadata": {
        "id": "RJ_B2SEQ-VUZ"
      }
    },
    {
      "cell_type": "code",
      "source": [
        "def afr4_curvature (G, ni, nj, t_coeff, t_num, q_coeff, q_num):\n",
        "    '''\n",
        "    computes the Augmented Forman-Ricci curvature of a given edge, \n",
        "    includes 3- and 4-cycles in calculation \n",
        "    \n",
        "    Parameters\n",
        "    ----------\n",
        "    G : Graph\n",
        "    ni : node i\n",
        "    nj : node j\n",
        "    t : number of triangles containing the edge between node i and j\n",
        "    q : number of quadrangles containing the edge between node i and j\n",
        "\n",
        "    Returns\n",
        "    -------\n",
        "    afrc4 : int\n",
        "        enhanced Forman Ricci curvature of the edge connecting nodes i and j   \n",
        "    '''\n",
        "    afrc4 = 4 - G.degree(ni) - G.degree(nj) + t_coeff * t_num + q_coeff * q_num\n",
        "    return afrc4"
      ],
      "metadata": {
        "id": "q_G_Gcrq-Vcz"
      },
      "execution_count": 7,
      "outputs": []
    },
    {
      "cell_type": "markdown",
      "source": [],
      "metadata": {
        "id": "a1bogXxP-ZH7"
      }
    },
    {
      "cell_type": "code",
      "source": [
        "def afr5_curvature (G, ni, nj, t_coeff, t_num, q_coeff, q_num, p_coeff, p_num):\n",
        "    '''\n",
        "    computes the Augmented Forman-Ricci curvature of a given edge \n",
        "    includes 3-, 4- and 5-cycles in calculation \n",
        "    \n",
        "    Parameters\n",
        "    ----------\n",
        "    G : Graph\n",
        "    ni : node i\n",
        "    nj : node j\n",
        "    t : number of triangles containing the edge between node i and j\n",
        "    q : number of quadrangles containing the edge between node i and j\n",
        "    p : number of pentagons containing the edge between node i and j\n",
        "\n",
        "    Returns\n",
        "    -------\n",
        "    afrc5 : int\n",
        "        enhanced Forman Ricci curvature of the edge connecting nodes i and j   \n",
        "    '''\n",
        "    afrc5 = 4 - G.degree(ni) - G.degree(nj) + t_coeff * t_num + q_coeff * q_num + p_coeff * p_num\n",
        "    return afrc5\n"
      ],
      "metadata": {
        "id": "QycFKu1C-ZQL"
      },
      "execution_count": 8,
      "outputs": []
    },
    {
      "cell_type": "markdown",
      "source": [],
      "metadata": {
        "id": "bsF94nIh-coZ"
      }
    },
    {
      "cell_type": "code",
      "source": [
        "def init_edge_attributes(G):\n",
        "    curv_names = [\"frc\", \"afrc\", \"afrc4\", \"afrc5\"] \n",
        "    for (u,v) in list(G.edges()):\n",
        "        for i in range(3,6):\n",
        "            G.edges[u,v][cyc_names[i]] = []\n",
        "        for cn in curv_names:\n",
        "            G.edges[u,v][cn] = 0"
      ],
      "metadata": {
        "id": "I0wygE0H-cwx"
      },
      "execution_count": 9,
      "outputs": []
    },
    {
      "cell_type": "markdown",
      "source": [],
      "metadata": {
        "id": "xUzg9wWW-foq"
      }
    },
    {
      "cell_type": "code",
      "source": [
        "def set_edge_attributes_2 (G, ll, i):\n",
        "    for l in ll:     # für jeden Zyklus in der Liste der Zyklen\n",
        "        for e1 in range(0, i): \n",
        "            if e1 == i-1:\n",
        "                e2 = 0\n",
        "            else:\n",
        "                e2 = e1 + 1\n",
        "            u = l[e1]\n",
        "            v = l[e2]\n",
        "            G.edges[u,v][cyc_names[i]].append(l)"
      ],
      "metadata": {
        "id": "mUWtENlJ-fyZ"
      },
      "execution_count": 10,
      "outputs": []
    },
    {
      "cell_type": "markdown",
      "source": [],
      "metadata": {
        "id": "8fa_xZGK-t8M"
      }
    },
    {
      "cell_type": "code",
      "source": [
        "def get_orc_edge_curvatures (G):          \n",
        "    # compute the Ollivier-Ricci curvature of the given graph G\n",
        "    orc = OllivierRicci(G, alpha=0.5, verbose=\"ERROR\")\n",
        "    orc.compute_ricci_curvature()\n",
        "    # transfer curvatire values from orc.G to G \n",
        "    for (u,v) in list(orc.G.edges()):               # für jede Kante\n",
        "        G.edges[u,v][\"orc\"] = orc.G.edges[u,v][\"ricciCurvature\"]\n",
        "        # print(\"ORC: \", orc.G.edges[u,v][\"ricciCurvature\"], (\"  -  G: \",G.edges[u,v][\"orc\"])"
      ],
      "metadata": {
        "id": "PewzLQ0m-uFD"
      },
      "execution_count": 11,
      "outputs": []
    },
    {
      "cell_type": "markdown",
      "source": [],
      "metadata": {
        "id": "FU-rTUDH-yLS"
      }
    },
    {
      "cell_type": "code",
      "source": [
        "def get_edge_curvatures (G, t_coeff, q_coeff, p_coeff):            \n",
        "    for (u,v) in list(G.edges()):               # für jede Kante\n",
        "        tr = len(G.edges[u,v][cyc_names[3]]) / 2  # geteilt durch 2 wegen gerichtetem Graph und daher immer zwei Permutationen pro Zyklus (1x vorwärts / 1x rückwärts)\n",
        "        qu = len(G.edges[u,v][cyc_names[4]]) / 2\n",
        "        pe = len(G.edges[u,v][cyc_names[5]]) / 2\n",
        "        G.edges[u,v][\"frc\"] = fr_curvature(G, u, v)        \n",
        "        G.edges[u,v][\"afrc\"] = afr_curvature(G, u, v, t_coeff, tr)\n",
        "        G.edges[u,v][\"afrc4\"] = afr4_curvature(G, u, v, t_coeff, tr, q_coeff, qu)\n",
        "        G.edges[u,v][\"afrc5\"] = afr5_curvature(G, u, v, t_coeff, tr, q_coeff, qu, p_coeff, pe)     "
      ],
      "metadata": {
        "id": "gTJZrOR9-yTi"
      },
      "execution_count": 12,
      "outputs": []
    },
    {
      "cell_type": "markdown",
      "source": [],
      "metadata": {
        "id": "kVsr04kj-2yk"
      }
    },
    {
      "cell_type": "code",
      "source": [
        "def show_curv_min_max_values (h_data):\n",
        "    print(\"\\nMin/Max Curvature values:\")\n",
        "    for k in h_data.keys():\n",
        "        print(str(k).ljust(8), \n",
        "              \"{0:<5s} {1:8.4f}\".format(\"Min:\", h_data[k][\"bin_min\"]), \"  \",\n",
        "              \"{0:<5s} {1:8.4f}\".format(\"Max:\", h_data[k][\"bin_max\"])\n",
        "              )\n",
        "    print()"
      ],
      "metadata": {
        "id": "0AlnmMQP-26p"
      },
      "execution_count": 13,
      "outputs": []
    },
    {
      "cell_type": "markdown",
      "source": [],
      "metadata": {
        "id": "lTYPqFSu-5d7"
      }
    },
    {
      "cell_type": "code",
      "source": [
        "def get_bin_width (b_min, b_max, num_bin_lim):\n",
        "    scaling = 1\n",
        "    multiplier = 10\n",
        "    # print(\"b_min:\", b_min, \"b_max:\", b_max, \"num_bin_lim:\", num_bin_lim, \"scaling:\", scaling, \"multiplier:\", multiplier)\n",
        "    b_width = (b_max - b_min) // 40 + 1\n",
        "    if abs(b_max) < 1 and abs(b_min) < 1:\n",
        "        while (b_max - b_min)/scaling < num_bin_lim / 10:\n",
        "            scaling /= multiplier    \n",
        "        b_width = scaling\n",
        "    return b_width"
      ],
      "metadata": {
        "id": "Y5CFIExRIeBZ"
      },
      "execution_count": 14,
      "outputs": []
    },
    {
      "cell_type": "markdown",
      "source": [],
      "metadata": {
        "id": "9GNjL-j8Iebx"
      }
    },
    {
      "cell_type": "code",
      "source": [
        "def show_histos (h_data, title_str, my_nrows = 2, my_ncols = 3, my_bin_num = 40):\n",
        "    fig, axes = plt.subplots(nrows=my_nrows, ncols=my_ncols, sharey = True, figsize=(16,10))\n",
        "    for i,k in enumerate(h_data.keys()):\n",
        "        r = i // my_ncols\n",
        "        c = i % my_ncols\n",
        "        bin_width = get_bin_width(h_data[k][\"bin_min\"], h_data[k][\"bin_max\"], my_bin_num)\n",
        "        axes[r,c].hist(h_data[k][\"curv\"], bins = np.arange(h_data[k][\"bin_min\"], h_data[k][\"bin_max\"] + bin_width, bin_width), edgecolor = \"white\")\n",
        "        axes[r,c].set_title(h_data[k][\"title\"])\n",
        "        axes[r,c].title.set_size(16)\n",
        "        axes[r,c].tick_params(axis='both', labelsize=16)\n",
        "        axes[r,c].grid(visible=True, axis=\"both\")\n",
        "    fig.suptitle(title_str, size=16)\n",
        "    plt.show()   "
      ],
      "metadata": {
        "id": "TBRQ0KIe-5nJ"
      },
      "execution_count": 15,
      "outputs": []
    },
    {
      "cell_type": "markdown",
      "source": [],
      "metadata": {
        "id": "ZHeiH9iZ--do"
      }
    },
    {
      "cell_type": "code",
      "source": [
        "def show_correlation_coeffs (h_data):\n",
        "    print(\"\\nCorrelation coefficients:\")\n",
        "    ks = list(h_data.keys())\n",
        "    for i in range(len(ks)):\n",
        "        for j in range(i+1, len(ks)):\n",
        "            s = h_data[ks[i]][\"title\"] + \" / \" + h_data[ks[j]][\"title\"]\n",
        "            c = np.corrcoef(h_data[ks[i]][\"curv\"], h_data[ks[j]][\"curv\"])[1][0]\n",
        "            print(s.ljust(55,\".\"), f\"{c:8.5f}\")\n",
        "        print()"
      ],
      "metadata": {
        "id": "P3J1hD6w--ly"
      },
      "execution_count": 16,
      "outputs": []
    },
    {
      "cell_type": "markdown",
      "source": [],
      "metadata": {
        "id": "kpQE68_E_B6q"
      }
    },
    {
      "cell_type": "code",
      "source": [
        "def show_curv_data (G, title_str):\n",
        "    h_data = {\"orc\":  {\"curv\": [d[\"orc\"]   for u,v,d in G.edges.data()], \"bin_min\":0, \"bin_max\":0, \"title\":\"Ollivier Ricci (OR)\"},\n",
        "              \"frc\":  {\"curv\": [d[\"frc\"]   for u,v,d in G.edges.data()], \"bin_min\":0, \"bin_max\":0, \"title\":\"Forman Ricci (FR)\"},\n",
        "              \"afrc\": {\"curv\": [d[\"afrc\"]  for u,v,d in G.edges.data()], \"bin_min\":0, \"bin_max\":0, \"title\":\"Augm. FR curv. (triangles)\"},\n",
        "              \"afrc4\":{\"curv\": [d[\"afrc4\"] for u,v,d in G.edges.data()], \"bin_min\":0, \"bin_max\":0, \"title\":\"AFR curv. (tri/quad)\"},\n",
        "              \"afrc5\":{\"curv\": [d[\"afrc5\"] for u,v,d in G.edges.data()], \"bin_min\":0, \"bin_max\":0, \"title\":\"AFR curv. (tri/quad/pent)\"}\n",
        "              }\n",
        "    \n",
        "    for k in h_data.keys():\n",
        "        # print(\"h_data.keys: \", k)\n",
        "        # h_data[k][\"bin_min\"] = int(min(h_data[k][\"curv\"]))\n",
        "        # h_data[k][\"bin_max\"] = int(max(h_data[k][\"curv\"]))\n",
        "        h_data[k][\"bin_min\"] = min(h_data[k][\"curv\"])\n",
        "        h_data[k][\"bin_max\"] = max(h_data[k][\"curv\"])\n",
        "        \n",
        "    show_curv_min_max_values (h_data)\n",
        "    show_histos (h_data, title_str, my_nrows = 2, my_ncols = 3, my_bin_num = 40)\n",
        "    show_correlation_coeffs(h_data)"
      ],
      "metadata": {
        "id": "rR4y143A_CEg"
      },
      "execution_count": 17,
      "outputs": []
    },
    {
      "cell_type": "markdown",
      "source": [],
      "metadata": {
        "id": "GLeiH3yl_NYZ"
      }
    },
    {
      "cell_type": "code",
      "source": [
        "def build_size_list (k, l):\n",
        "    ll = [k  for i in range(l)]\n",
        "    return ll"
      ],
      "metadata": {
        "id": "fAP9hsv9_RKh"
      },
      "execution_count": 19,
      "outputs": []
    },
    {
      "cell_type": "markdown",
      "source": [],
      "metadata": {
        "id": "ZJB-_KBs_RAS"
      }
    },
    {
      "cell_type": "code",
      "source": [
        "def build_prob_list (n, p_in, p_out):\n",
        "    ll = []\n",
        "    for i in range(n):    \n",
        "        temp_l = [p_out  for j in range(0,i)] + [p_in] + [p_out  for j in range(i+2,n+1)]\n",
        "        ll.append(temp_l)\n",
        "    return ll"
      ],
      "metadata": {
        "id": "_DziWKDJ_Yv9"
      },
      "execution_count": 20,
      "outputs": []
    },
    {
      "cell_type": "markdown",
      "source": [],
      "metadata": {
        "id": "te8KkVBo_URR"
      }
    },
    {
      "cell_type": "code",
      "source": [
        "cyc_names = {3:\"triangles\", 4:\"quadrangles\", 5:\"pentagons\"}        \n"
      ],
      "metadata": {
        "id": "d14ZSw1Y_Nhb"
      },
      "execution_count": 18,
      "outputs": []
    },
    {
      "cell_type": "markdown",
      "source": [],
      "metadata": {
        "id": "NpWEY_w1_apB"
      }
    },
    {
      "cell_type": "code",
      "source": [
        "# ---------------------------------- \n",
        "# -------  simple example  ---------\n",
        "# ---------------------------------- \n",
        "\n",
        "     \n",
        "'''  \n",
        "edges = [(0,3), (0,4), (3,1), (3,2), (3,4), (1,2), (2,4)]\n",
        "# edges = [(0,3), (0,4), (3,1), (3,2), (3,4), (1,2), (2,4), (0,5), (5,6), (6,4)]\n",
        "\n",
        "G = nx.Graph()\n",
        "G.add_edges_from(edges)\n",
        "init_edge_attributes(G)\n",
        "\n",
        "H = G.to_directed()\n",
        "\n",
        "pos1 = nx.kamada_kawai_layout(H)\n",
        "plot_my_graph(H, pos1)\n",
        "\n",
        "cycles = []\n",
        "for c in simple_cycles(H, 6):\n",
        "    cycles.append(c) \n",
        "    \n",
        "d = dict()\n",
        "for i in range(3,6):\n",
        "    d[i] = [c  for c in cycles  if len(c) == i]\n",
        "    set_edge_attributes_2(G, d[i], i)\n",
        "    \n",
        "get_edge_curvatures(G)\n",
        "    \n",
        "'''"
      ],
      "metadata": {
        "id": "6XaIiAhN_n9n"
      },
      "execution_count": null,
      "outputs": []
    },
    {
      "cell_type": "markdown",
      "source": [],
      "metadata": {
        "id": "RjKU-OJ8_pqm"
      }
    },
    {
      "cell_type": "code",
      "source": [
        "# --------------------------------\n",
        "# ----------  SBM  ---------------\n",
        "# --------------------------------\n",
        "\n",
        " \n",
        "'''\n",
        "sbm = {\"size_per_comm\" : 6, \"num_of_comm\" : 2, \"p_in\" : 0.70, \"p_out\" : 0.05}\n",
        "sizes = build_size_list(sbm[\"size_per_comm\"], sbm[\"num_of_comm\"])\n",
        "probs = build_prob_list(sbm[\"num_of_comm\"], sbm[\"p_in\"], sbm[\"p_out\"])\n",
        "\n",
        "G = nx.stochastic_block_model(sizes, probs, seed=0)   \n",
        "init_edge_attributes(G)\n",
        "  \n",
        "H = G.to_directed()\n",
        "\n",
        "pos1 = nx.kamada_kawai_layout(H)\n",
        "blocks = [v[\"block\"]  for u,v in H.nodes.data()]\n",
        "plot_my_graph(H, pos1, node_col = blocks)\n",
        "\n",
        "t0 = perf_counter()\n",
        "\n",
        "cycles = []\n",
        "for c in simple_cycles(H, 6):\n",
        "    cycles.append(c) \n",
        "\n",
        "t1 = perf_counter()\n",
        "print(\"Zyklen: \",len(cycles))\n",
        "print(\"Zeit: \", t1-t0)\n",
        "\n",
        "d = dict()\n",
        "for i in range(3,6):\n",
        "    d[i] = [c  for c in cycles  if len(c) == i]\n",
        "    set_edge_attributes_2(G, d[i], i)\n",
        "    \n",
        "# t2 = perf_counter()\n",
        "# print(\"Zyklen ohne Permutationen: \", len(d[3]) + len(d[4]) + len(d[5]))\n",
        "# print(\"Zeit: \", t2-t1)\n",
        "\n",
        "get_edge_curvatures(G)\n",
        "\n",
        "'''"
      ],
      "metadata": {
        "id": "IJqaFL10_uiY"
      },
      "execution_count": null,
      "outputs": []
    },
    {
      "cell_type": "markdown",
      "source": [],
      "metadata": {
        "id": "vrNLQENq_vl_"
      }
    },
    {
      "cell_type": "code",
      "source": [
        "# -------------------------------------------------------------------------\n",
        "# ---------------  SBM with k / l / p_in / p_out variation  ---------------\n",
        "# -------------------------------------------------------------------------\n",
        "\n",
        "\n",
        "def calculate_SBM(k, l, p_in, p_out, title_str, t_coeff, q_coeff, p_coeff):\n",
        "    print(\"k:\",k,\" l:\",l,\" p_in:\",p_in,\" p_out:\",p_out)\n",
        "    sizes = build_size_list(k, l)\n",
        "    probs = build_prob_list(l, p_in, p_out)\n",
        "    \n",
        "    G = nx.stochastic_block_model(sizes, probs, seed = 0)\n",
        "    init_edge_attributes(G)\n",
        "      \n",
        "    H = G.to_directed()\n",
        "    \n",
        "    # pos1 = nx.kamada_kawai_layout(H)\n",
        "    # blocks = [v[\"block\"]  for u,v in H.nodes.data()]\n",
        "    # plot_my_graph(H, pos1, node_col = blocks)\n",
        "    \n",
        "    t0 = perf_counter()\n",
        "    cycles = []\n",
        "    for c in simple_cycles(H, 6):\n",
        "        cycles.append(c) \n",
        "    t1 = perf_counter()\n",
        "    print(\"Zyklen: \",len(cycles), \" - Zeit: \", t1-t0)\n",
        "    \n",
        "    d = dict()\n",
        "    for i in range(3,6):\n",
        "        d[i] = [c  for c in cycles  if len(c) == i]\n",
        "        \n",
        "        # d[i] = remove_permutations(d[i])\n",
        "        \n",
        "        # t2 = perf_counter()\n",
        "        # print(i, \" ohne Permutationen - Zeit: \", t2-t1, \" / \", end = \"\")\n",
        "        set_edge_attributes_2(G, d[i], i)\n",
        "        # t3 = perf_counter()\n",
        "        # print(i, \"Edge Attributes - Zeit: \", t3-t2)\n",
        "        # t1 = t3\n",
        "        \n",
        "    get_orc_edge_curvatures (G)\n",
        "    get_edge_curvatures (G, t_coeff, q_coeff, p_coeff)\n",
        "    # t4 = perf_counter()\n",
        "    # print(\"Curvature - Zeit: \", t4-t3)\n",
        "    \n",
        "    show_curv_data (G, title_str)\n",
        "    # t5 = perf_counter()\n",
        "    # print(\"Histos - Zeit: \", t5-t4)"
      ],
      "metadata": {
        "id": "QtpCDXDa_Yxm"
      },
      "execution_count": 21,
      "outputs": []
    },
    {
      "cell_type": "markdown",
      "source": [],
      "metadata": {
        "id": "ZoSLMzI8_ciq"
      }
    },
    {
      "cell_type": "code",
      "source": [
        "def calculate_SBMs():\n",
        "    ll_k = [5,10,15,20]\n",
        "    k_def = 20\n",
        "    ll_l = [2,3,4,5]\n",
        "    l_def = 5\n",
        "    ll_p_in = [0.6, 0.7, 0.8, 0.9]\n",
        "    p_in_def = 0.7\n",
        "    ll_p_out = [0.05, 0.03, 0.02, 0.01]\n",
        "    p_out_def = 0.05\n",
        "    for k in ll_k:\n",
        "        s = \"Variation of community size / k = \" + str(k) + \"\\n\" + \\\n",
        "            \"k=\" + str(k) + \" l=\" + str(l_def) + \" p_in:\" + str(p_in_def) + \" p_out:\" + str(p_out_def)\n",
        "        calculate_SBM(k, l_def, p_in_def, p_out_def, s, 3, 2, 1)\n",
        "    for l in ll_l:\n",
        "        s = \"Variation of number of communities / l = \" + str(l) + \"\\n\" + \\\n",
        "            \"k=\" + str(k_def) + \"  l=\" + str(l) +  \"  p_in=\" + str(p_in_def) + \"  p_out=\" + str(p_out_def)\n",
        "        calculate_SBM(k_def, l, p_in_def, p_out_def, s, 3, 2, 1)\n",
        "    for p_in in ll_p_in:\n",
        "        s = \"Variation of p_in / p_in = \" + str(p_in) + \"\\n\" + \\\n",
        "            \"k=\" + str(k_def) + \" l=\" + str(l_def) +  \" p_in:\" + str(p_in) + \" p_out:\" + str(p_out_def)\n",
        "        calculate_SBM(k_def, l_def, p_in, p_out_def, s, 3, 2, 1)\n",
        "    for p_out in ll_p_out:\n",
        "        s = \"Variation of p_out / p_out = \" + str(p_out) + \"\\n\" + \\\n",
        "            \"k=\" + str(k_def) + \" l=\" + str(l_def) +  \" p_in:\" + str(p_in_def) + \" p_out:\" + str(p_out)\n",
        "        calculate_SBM(k_def, l_def, p_in_def, p_out, s, 3, 2, 1)"
      ],
      "metadata": {
        "id": "6I8yHZlO_Yy7"
      },
      "execution_count": 22,
      "outputs": []
    },
    {
      "cell_type": "markdown",
      "source": [],
      "metadata": {
        "id": "BkuMWC5cAAGS"
      }
    },
    {
      "cell_type": "code",
      "source": [
        "calculate_SBMs()  "
      ],
      "metadata": {
        "id": "7vs_QpemAAUR"
      },
      "execution_count": null,
      "outputs": []
    },
    {
      "cell_type": "markdown",
      "source": [],
      "metadata": {
        "id": "5l790Gk-AiRv"
      }
    },
    {
      "cell_type": "code",
      "source": [
        "# ----------------------------------------\n",
        "# -------  Karate Club graph  ------------\n",
        "# ----------------------------------------\n",
        "\n",
        "def calculate_karate_club(title_str):\n",
        "\n",
        "    G = nx.karate_club_graph()\n",
        "    init_edge_attributes(G)\n",
        "    H = G.to_directed()\n",
        "\n",
        "    pos1 = nx.kamada_kawai_layout(H)\n",
        "    colors= [0  if v[\"club\"] == \"Mr. Hi\" else 1  for u,v in H.nodes.data()]\n",
        "    plot_my_graph(H, pos1, node_col = colors)\n",
        "    \n",
        "    cycles = []\n",
        "    for c in simple_cycles(H, 6):\n",
        "        cycles.append(c) \n",
        "    \n",
        "    d = dict()\n",
        "    for i in range(3,6):\n",
        "        d[i] = [c  for c in cycles  if len(c) == i]\n",
        "        set_edge_attributes_2(G, d[i], i)\n",
        "        \n",
        "    get_orc_edge_curvatures (G)\n",
        "    get_edge_curvatures (G)    \n",
        "    show_curv_data (G, title_str)"
      ],
      "metadata": {
        "id": "pj8h5XjOAGs3"
      },
      "execution_count": null,
      "outputs": []
    },
    {
      "cell_type": "markdown",
      "source": [],
      "metadata": {
        "id": "TdTSfNfjAUCv"
      }
    },
    {
      "cell_type": "code",
      "source": [
        "calculate_karate_club(\"Karate Club\")"
      ],
      "metadata": {
        "id": "YfoMPA4GAOId"
      },
      "execution_count": null,
      "outputs": []
    },
    {
      "cell_type": "markdown",
      "source": [],
      "metadata": {
        "id": "rDoUlertAN41"
      }
    },
    {
      "cell_type": "code",
      "source": [
        "# --------------------------------------------------------\n",
        "# --------  American Footbal graph -----------------------\n",
        "# --------------------------------------------------------\n",
        "\n",
        "\n",
        "def colored_amf_graph(G):\n",
        "    for n,d in G.nodes.data(): \n",
        "        d[\"color\"] = d[\"value\"]\n",
        "    return G"
      ],
      "metadata": {
        "id": "Jy4SN2A8AS9o"
      },
      "execution_count": null,
      "outputs": []
    },
    {
      "cell_type": "markdown",
      "source": [],
      "metadata": {
        "id": "rPeU0vvnArEv"
      }
    },
    {
      "cell_type": "code",
      "source": [
        "def get_circles_in_circle_pos(G, sc, rd, cx, cy, mv, values):\n",
        "    p = {}\n",
        "    cnt = np.array([cx, cy])\n",
        "    for v in values:\n",
        "        temp = nx.circular_layout(\n",
        "                    nx.subgraph(G, [n  for n,d in iter(G.nodes.items())  if d[\"value\"] == v]),\n",
        "                    scale = sc,\n",
        "                    center = cnt + np.array([rd * np.cos(v/(mv+1)*2*np.pi),\n",
        "                                             rd * np.sin(v/(mv+1)*2*np.pi)])\n",
        "                    )\n",
        "        p.update(temp)\n",
        "    return p"
      ],
      "metadata": {
        "id": "M8y3PDNKArfA"
      },
      "execution_count": null,
      "outputs": []
    },
    {
      "cell_type": "markdown",
      "source": [],
      "metadata": {
        "id": "WEd9TMGlAu-v"
      }
    },
    {
      "cell_type": "code",
      "source": [
        "# Americal Football (AMF) read-in from football.gml\n",
        "def calculate_AMF(title_str):\n",
        "    G = nx.read_gml(\"football.gml\")\n",
        "    init_edge_attributes(G)\n",
        "    H = G.to_directed()\n",
        "    \n",
        "    values = set([d[\"value\"]  for n,d in iter(G.nodes.items())])\n",
        "    max_value = list(values)[-1]\n",
        "    pos_amf = get_circles_in_circle_pos(G, 0.1, 0.6, 0.5, 0.5, max_value, values)\n",
        "    \n",
        "    G = colored_amf_graph(G)\n",
        "    plot_my_graph(G, pos_amf, \n",
        "                  node_col = [d[\"color\"]  for n,d in G.nodes.data()],\n",
        "                  color_map = \"tab20\", alpha = 0.7)\n",
        "\n",
        "    cycles = []\n",
        "    for c in simple_cycles(H, 6):\n",
        "        cycles.append(c) \n",
        "    \n",
        "    d = dict()\n",
        "    for i in range(3,6):\n",
        "        d[i] = [c  for c in cycles  if len(c) == i]\n",
        "        set_edge_attributes_2(G, d[i], i)\n",
        "        \n",
        "    get_orc_edge_curvatures (G)\n",
        "    get_edge_curvatures (G)    \n",
        "    show_curv_data (G, title_str)"
      ],
      "metadata": {
        "id": "OQAclyjmAvY1"
      },
      "execution_count": null,
      "outputs": []
    },
    {
      "cell_type": "markdown",
      "source": [],
      "metadata": {
        "id": "KJtHW9RdAzMH"
      }
    },
    {
      "cell_type": "code",
      "source": [
        "calculate_AMF(\"American Football League\")"
      ],
      "metadata": {
        "id": "tOaUEfLzAzos"
      },
      "execution_count": null,
      "outputs": []
    },
    {
      "cell_type": "markdown",
      "source": [],
      "metadata": {
        "id": "dwRmz2U3A4Bw"
      }
    },
    {
      "cell_type": "code",
      "source": [
        "# -----------------------------------------------------------------\n",
        "# --------  Standard SBM with cycle weight variation  -------------\n",
        "# -----------------------------------------------------------------\n",
        "\n",
        "def calculate_SBM_cycle_weight_var():\n",
        "    k_def = 20\n",
        "    l_def = 3\n",
        "    p_in_def = 0.7\n",
        "    p_out_def = 0.05\n",
        "    cycle_weights = [(0.4, 0.2), (0.8, 0.4), (1.2, 0.6), (1.6, 0.8), (2.0, 1.0)]\n",
        "    for cw in cycle_weights :\n",
        "        (q,p)  = cw\n",
        "        s = \"Variation of cycle weights / quad weight = \" + str(q) + \"pent weight = \" + str(p) + \"\\n\" + \\\n",
        "            \"k=\" + str(k_def) + \" l=\" + str(l_def) + \" p_in:\" + str(p_in_def) + \" p_out:\" + str(p_out_def)\n",
        "        calculate_SBM(k_def, l_def, p_in_def, p_out_def, s, 3, q, p)"
      ],
      "metadata": {
        "id": "yXEEXcv1A4UA"
      },
      "execution_count": null,
      "outputs": []
    },
    {
      "cell_type": "markdown",
      "source": [],
      "metadata": {
        "id": "bSiIyANtA9jn"
      }
    },
    {
      "cell_type": "code",
      "source": [
        "calculate_SBM_cycle_weight_var()"
      ],
      "metadata": {
        "id": "0STqQPAdA-Pu"
      },
      "execution_count": null,
      "outputs": []
    }
  ]
}